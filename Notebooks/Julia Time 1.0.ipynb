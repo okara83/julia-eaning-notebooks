{
 "cells": [
  {
   "cell_type": "markdown",
   "id": "88aebd4f",
   "metadata": {},
   "source": [
    "# Why Julia?\n",
    "Julia is an is a general-purpose, open-source, dynamic, and high-performance language. By leveraging a clever design around a just in time <b>(JIT) compiler</b>, Julia manages to <span style=\"color:red\">combine the speed of languages like C or Fortran</span>, with the <span style=\"color:red\"> ease of use of Matlab or Python</span>\n"
   ]
  },
  {
   "cell_type": "markdown",
   "id": "0e83cc30",
   "metadata": {},
   "source": [
    "## Some Features of Julia\n",
    "\n",
    "Julia has many interesting features, but here is a small sample of what I think is most basic characteristics that make Julia attractive for Science and Engineering.\n",
    "<ul>\n",
    "<li>JIT Compiled. Write code that looks interpreted, and yet it gets to run as just as fast as compiled code. No need to vectorize code for performance, devectorized code is fast</li> \n",
    "<li>Optionally Typed. Do some rapid prototyping with maximum flexibility, and then optimize for performance.</li> \n",
    "<li> Nice Mathematical Syntax. Builds upon and goes much further than classical mathematical languages like Fortran, Matlab, and Mathematica</li> \n",
    "<li>General purpose. Get code from the package manager to perform all sort of tasks, from reading multiple types of databases, to data visualization, or running an HTTP server </li> \n",
    "            </ul> "
   ]
  },
  {
   "cell_type": "markdown",
   "id": "a5f5ace3",
   "metadata": {},
   "source": [
    "### Alright..... Let's say Hello!"
   ]
  },
  {
   "cell_type": "code",
   "execution_count": 8,
   "id": "55e85000",
   "metadata": {},
   "outputs": [
    {
     "name": "stdout",
     "output_type": "stream",
     "text": [
      "Hello World!\n"
     ]
    }
   ],
   "source": [
    "println(\"Hello World!\")"
   ]
  },
  {
   "cell_type": "markdown",
   "id": "a0ab9249",
   "metadata": {},
   "source": [
    "## Installing packages\n",
    "One of the salient characteristics of Julia is its excellent package distribution system, and the open-source community built around it.\n",
    "\n",
    "### Packages can be easily installed from the <span style=\"color:blue\"> REPL</span>. \n",
    "\n",
    "Let’s install, for example, the Linear Algebra package. Simply do:\n",
    "\n"
   ]
  },
  {
   "cell_type": "code",
   "execution_count": 5,
   "id": "2d2fe1b9",
   "metadata": {},
   "outputs": [
    {
     "name": "stderr",
     "output_type": "stream",
     "text": [
      "\u001b[32m\u001b[1m    Updating\u001b[22m\u001b[39m registry at `~/.julia/registries/General.toml`\n",
      "\u001b[32m\u001b[1m   Resolving\u001b[22m\u001b[39m package versions...\n",
      "\u001b[32m\u001b[1m    Updating\u001b[22m\u001b[39m `~/.julia/environments/v1.7/Project.toml`\n",
      " \u001b[90m [37e2e46d] \u001b[39m\u001b[92m+ LinearAlgebra\u001b[39m\n",
      "\u001b[32m\u001b[1m    Updating\u001b[22m\u001b[39m `~/.julia/environments/v1.7/Manifest.toml`\n",
      " \u001b[90m [37e2e46d] \u001b[39m\u001b[92m+ LinearAlgebra\u001b[39m\n",
      " \u001b[90m [e66e0078] \u001b[39m\u001b[92m+ CompilerSupportLibraries_jll\u001b[39m\n",
      " \u001b[90m [4536629a] \u001b[39m\u001b[92m+ OpenBLAS_jll\u001b[39m\n",
      " \u001b[90m [8e850b90] \u001b[39m\u001b[92m+ libblastrampoline_jll\u001b[39m\n",
      "\u001b[32m\u001b[1mPrecompiling\u001b[22m\u001b[39m project...\n",
      "\u001b[32m  ✓ \u001b[39m\u001b[90mCompilerSupportLibraries_jll\u001b[39m\n",
      "\u001b[32m  ✓ \u001b[39m\u001b[90mOpenBLAS_jll\u001b[39m\n",
      "\u001b[32m  ✓ \u001b[39m\u001b[90mlibblastrampoline_jll\u001b[39m\n",
      "  3 dependencies successfully precompiled in 1 seconds (15 already precompiled)\n"
     ]
    }
   ],
   "source": [
    "import Pkg; Pkg.add(\"LinearAlgebra\")"
   ]
  },
  {
   "cell_type": "markdown",
   "id": "b352f520",
   "metadata": {},
   "source": [
    "### For using the packages in our projects (analogous to importing in python), we need to include them with a using statement:"
   ]
  },
  {
   "cell_type": "code",
   "execution_count": 6,
   "id": "0135137a",
   "metadata": {},
   "outputs": [],
   "source": [
    "using LinearAlgebra"
   ]
  },
  {
   "cell_type": "code",
   "execution_count": null,
   "id": "a12a46e6",
   "metadata": {},
   "outputs": [],
   "source": []
  },
  {
   "cell_type": "code",
   "execution_count": null,
   "id": "7959e931",
   "metadata": {},
   "outputs": [],
   "source": []
  }
 ],
 "metadata": {
  "kernelspec": {
   "display_name": "Julia 1.7.2",
   "language": "julia",
   "name": "julia-1.7"
  },
  "language_info": {
   "file_extension": ".jl",
   "mimetype": "application/julia",
   "name": "julia",
   "version": "1.7.2"
  }
 },
 "nbformat": 4,
 "nbformat_minor": 5
}
